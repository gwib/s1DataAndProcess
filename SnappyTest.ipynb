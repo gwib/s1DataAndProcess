{
 "cells": [
  {
   "cell_type": "code",
   "execution_count": 13,
   "metadata": {},
   "outputs": [],
   "source": [
    "%matplotlib inline\n",
    "import numpy as np\n",
    "import matplotlib.pyplot as plt\n",
    "import matplotlib.colors as colors\n",
    "\n",
    "import os\n",
    "\n",
    "import snappy\n",
    "from snappy import Product, ProductIO, ProductUtils, WKTReader, HashMap, GPF, jpy\n",
    "\n",
    "from sentinelsat import SentinelAPI, read_geojson, geojson_to_wkt\n"
   ]
  },
  {
   "cell_type": "code",
   "execution_count": 3,
   "metadata": {},
   "outputs": [],
   "source": [
    "# loading data\n",
    "productPath='./data/SLCData/S1B_IW_SLC__1SDH_20190530T101600_20190530T101628_016472_01F016_3938.zip'\n",
    "p = ProductIO.readProduct(productPath)"
   ]
  },
  {
   "cell_type": "code",
   "execution_count": 4,
   "metadata": {},
   "outputs": [],
   "source": [
    "# look at metadata\n",
    "def printMetadata(product):\n",
    "    name = product.getName()\n",
    "    print(\"Name: {}\".format(name))\n",
    "    width = product.getSceneRasterWidth()\n",
    "    print(\"Width: {} px\".format(width))\n",
    "    height = product.getSceneRasterHeight()\n",
    "    print(\"Height: {} px\".format(height))\n",
    "    band_names = product.getBandNames()\n",
    "    print(\"Band names: {}\".format(\",\".join(band_names)))"
   ]
  },
  {
   "cell_type": "code",
   "execution_count": 5,
   "metadata": {},
   "outputs": [
    {
     "name": "stdout",
     "output_type": "stream",
     "text": [
      "Name: S1B_IW_SLC__1SDH_20190530T101600_20190530T101628_016472_01F016_3938\n",
      "Width: 73030 px\n",
      "Height: 15060 px\n",
      "Band names: i_IW1_HH,q_IW1_HH,Intensity_IW1_HH,i_IW1_HV,q_IW1_HV,Intensity_IW1_HV,i_IW2_HH,q_IW2_HH,Intensity_IW2_HH,i_IW2_HV,q_IW2_HV,Intensity_IW2_HV,i_IW3_HH,q_IW3_HH,Intensity_IW3_HH,i_IW3_HV,q_IW3_HV,Intensity_IW3_HV\n"
     ]
    }
   ],
   "source": [
    "printMetadata(p)"
   ]
  },
  {
   "cell_type": "code",
   "execution_count": 6,
   "metadata": {},
   "outputs": [],
   "source": [
    "def plotBand(product, band):#, vmin, vmax):\n",
    "    band = product.getBand(band)\n",
    "    w = band.getRasterWidth()\n",
    "    h = band.getRasterHeight()\n",
    "    print(w, h)\n",
    "    \n",
    "    band_data = np.zeros(w * h, np.float32)\n",
    "    band.readPixels(0,0,w,h,band_data)\n",
    "    \n",
    "    band_data.shape = h, w\n",
    "    \n",
    "    width = 12\n",
    "    height = 12\n",
    "    plt.figure(figsize=(width,height))\n",
    "    imgplot = plt.imshow(band_data, cmap=plt.cm.binary)#, vmin=vmin, vmax=vmax)\n",
    "    \n",
    "    return imgplot"
   ]
  },
  {
   "cell_type": "markdown",
   "metadata": {},
   "source": [
    "## Image pre-processing"
   ]
  },
  {
   "cell_type": "markdown",
   "metadata": {},
   "source": [
    "### Applying Orbit File"
   ]
  },
  {
   "cell_type": "code",
   "execution_count": 7,
   "metadata": {},
   "outputs": [],
   "source": [
    "def orbitFileApplication(product):\n",
    "    parameters = HashMap()\n",
    "\n",
    "    GPF.getDefaultInstance().getOperatorSpiRegistry().loadOperatorSpis()\n",
    "\n",
    "    parameters.put('orbitType', 'Sentinel Precise (Auto Download)')\n",
    "    parameters.put('polyDegree', '3')\n",
    "    parameters.put('continueOnFail', 'false')\n",
    "    parameters.put('copyMetadata', True)\n",
    "\n",
    "    apply_orbit_file = GPF.createProduct('Apply-Orbit-File', parameters, product)\n",
    "    \n",
    "    return apply_orbit_file"
   ]
  },
  {
   "cell_type": "code",
   "execution_count": 8,
   "metadata": {},
   "outputs": [],
   "source": [
    "pOrbit = orbitFileApplication(p)"
   ]
  },
  {
   "cell_type": "markdown",
   "metadata": {},
   "source": [
    "### Clipping/Subsetting images"
   ]
  },
  {
   "cell_type": "code",
   "execution_count": 9,
   "metadata": {},
   "outputs": [],
   "source": [
    "outline = geojson_to_wkt(read_geojson(r'../inData/diskoIsland.geojson'))"
   ]
  },
  {
   "cell_type": "code",
   "execution_count": 10,
   "metadata": {},
   "outputs": [],
   "source": [
    "def clipImages(orbitFile, bounds):\n",
    "    \n",
    "    geometry = WKTReader().read(bounds) \n",
    "    \n",
    "    SubsetOp = snappy.jpy.get_type('org.esa.snap.core.gpf.common.SubsetOp')\n",
    "    GPF.getDefaultInstance().getOperatorSpiRegistry().loadOperatorSpis()\n",
    "    \n",
    "    parameters = HashMap()\n",
    "    parameters.put('copyMetadata', True)\n",
    "    parameters.put('geoRegion', geometry)\n",
    "    \n",
    "    product_subset = snappy.GPF.createProduct('Subset', parameters, orbitFile)\n",
    "    \n",
    "    return product_subset"
   ]
  },
  {
   "cell_type": "code",
   "execution_count": 11,
   "metadata": {},
   "outputs": [],
   "source": [
    "subset = clipImages(pOrbit,outline)"
   ]
  },
  {
   "cell_type": "code",
   "execution_count": 16,
   "metadata": {
    "scrolled": true
   },
   "outputs": [
    {
     "name": "stdout",
     "output_type": "stream",
     "text": [
      "Name: Subset_S1B_IW_SLC__1SDH_20190530T101600_20190530T101628_016472_01F016_3938_Orb\n",
      "Width: 34701 px\n",
      "Height: 9639 px\n",
      "Band names: i_IW1_HH,q_IW1_HH,Intensity_IW1_HH,i_IW1_HV,q_IW1_HV,Intensity_IW1_HV,i_IW2_HH,q_IW2_HH,Intensity_IW2_HH,i_IW2_HV,q_IW2_HV,Intensity_IW2_HV,i_IW3_HH,q_IW3_HH,Intensity_IW3_HH,i_IW3_HV,q_IW3_HV,Intensity_IW3_HV\n"
     ]
    }
   ],
   "source": [
    "printMetadata(subset)"
   ]
  },
  {
   "cell_type": "code",
   "execution_count": 14,
   "metadata": {},
   "outputs": [],
   "source": [
    "# progress monitor for java writer\n",
    "def createProgressMonitor():\n",
    "    PWPM = jpy.get_type('com.bc.ceres.core.PrintWriterProgressMonitor')\n",
    "    JavaSystem = jpy.get_type('java.lang.System')\n",
    "    monitor = PWPM(JavaSystem.out)\n",
    "    return monitor\n",
    " \n",
    "pm = createProgressMonitor() "
   ]
  },
  {
   "cell_type": "code",
   "execution_count": 19,
   "metadata": {},
   "outputs": [],
   "source": [
    "# write product\n",
    "\n",
    "# options\n",
    "ProductIO.writeProduct(subset, subset.getName()+\".dim\", \"BEAM-DIMAP\")\n",
    "\n",
    "# Alternative solution: Computations are faster when using GPF to write the product instead of ProductIO:\n",
    "#incremental = False # most writer don't support the incremental writing mode (update exsiting file), except BEAM-DIMAP.\n",
    "\n",
    "#GPF.writeProduct(subset , './data/processed/', 'BEAM-DIMAP', incremental, pm)\n",
    "\n",
    "# without progress monitor \n",
    "#GPF.writeProduct(target_product , File(<'your/out/directory'>), write_format, incremental, ProgressMonitor.NULL)\n"
   ]
  },
  {
   "cell_type": "code",
   "execution_count": 11,
   "metadata": {},
   "outputs": [],
   "source": [
    "#plotBand(subset, 'Intensity_IW3_HH')\n",
    "\n",
    "# note: write multiple bands\n",
    "BandDescriptor = jpy.get_type('org.esa.snap.core.gpf.common.BandMathsOp$BandDescriptor')\n",
    "\n",
    "targetBand1 = BandDescriptor()\n",
    "targetBand1.name = 'band_1'\n",
    "targetBand1.type = 'float32'\n",
    "targetBand1.expression = '(radiance_10 - radiance_7) / (radiance_10 + radiance_7)'\n",
    "\n",
    "targetBand2 = BandDescriptor()\n",
    "targetBand2.name = 'band_2'\n",
    "targetBand2.type = 'float32'\n",
    "targetBand2.expression = '(radiance_9 - radiance_6) / (radiance_9 + radiance_6)'\n",
    "\n",
    "targetBands = jpy.array('org.esa.snap.core.gpf.common.BandMathsOp$BandDescriptor', 2)\n",
    "targetBands[0] = targetBand1\n",
    "targetBands[1] = targetBand2\n",
    "\n",
    "parameters = HashMap()\n",
    "parameters.put('targetBands', targetBands)\n",
    "\n",
    "result = GPF.createProduct('BandMaths', parameters, product)"
   ]
  },
  {
   "cell_type": "code",
   "execution_count": 12,
   "metadata": {},
   "outputs": [],
   "source": [
    "#ReprojectOp = snappy.jpy.get_type('org.esa.snap.core.gpf.common.reproject.ReprojectionOp')"
   ]
  },
  {
   "cell_type": "code",
   "execution_count": 13,
   "metadata": {},
   "outputs": [],
   "source": [
    "#list(p.getBandNames())"
   ]
  },
  {
   "cell_type": "code",
   "execution_count": null,
   "metadata": {},
   "outputs": [],
   "source": []
  },
  {
   "cell_type": "markdown",
   "metadata": {},
   "source": [
    "# create subset of data\n",
    "\n",
    "\n",
    "wkt=a“POLYGON((7.62 81.585, 7.62 81.699, 7.465 81.699, 7.465 81.585,7.62 81.585 ))”\n",
    "geom = WKTReader().read(wkt)\n",
    "HashMap = jpy.get_type(‘java.util.HashMap’)\n",
    "GPF.getDefaultInstance().getOperatorSpiRegistry().loadOperatorSpis()\n",
    "parameters = HashMap()\n",
    "parameters.put(‘copyMetadata’, True)\n",
    "parameters.put(‘geoRegion’, geom)\n",
    "SAR_image_subset = GPF.createProduct(‘Subset’, parameters, SAR_image)\n",
    "ProductIO.writeProduct(SAR_image_subset, image_name+’_subset’, ‘BEAM-DIMAP’)"
   ]
  }
 ],
 "metadata": {
  "kernelspec": {
   "display_name": "Python 3",
   "language": "python",
   "name": "python3"
  },
  "language_info": {
   "codemirror_mode": {
    "name": "ipython",
    "version": 3
   },
   "file_extension": ".py",
   "mimetype": "text/x-python",
   "name": "python",
   "nbconvert_exporter": "python",
   "pygments_lexer": "ipython3",
   "version": "3.6.5"
  }
 },
 "nbformat": 4,
 "nbformat_minor": 2
}

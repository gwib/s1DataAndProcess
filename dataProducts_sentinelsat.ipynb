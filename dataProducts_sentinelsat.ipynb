{
 "cells": [
  {
   "cell_type": "code",
   "execution_count": 1,
   "metadata": {},
   "outputs": [],
   "source": [
    "from dotenv import load_dotenv\n",
    "load_dotenv()\n",
    "import os\n",
    "from pathlib import Path\n",
    "\n",
    "from sentinelsat import SentinelAPI, read_geojson, geojson_to_wkt\n",
    "from datetime import date"
   ]
  },
  {
   "cell_type": "code",
   "execution_count": 2,
   "metadata": {},
   "outputs": [],
   "source": [
    "api = SentinelAPI(os.environ.get('sentinelAPI.user'), os.environ.get('sentinelAPI.pass'), 'https://scihub.copernicus.eu/dhus')"
   ]
  },
  {
   "cell_type": "code",
   "execution_count": 3,
   "metadata": {},
   "outputs": [],
   "source": [
    "# search by polygon, time, and SciHub query keywords\n",
    "footprint = geojson_to_wkt(read_geojson(r'../inData/diskoIsland.geojson'))\n",
    "\n",
    "def findS1Data(fp=footprint,prodType='SLC',ron=171,sliceNo=2):\n",
    "\n",
    "    products = api.query(fp,\n",
    "                         platformname='Sentinel-1',\n",
    "                         producttype=prodType,\n",
    "                         relativeOrbitNumber=ron,\n",
    "                         sliceNumber=sliceNo\n",
    "                         )\n",
    "    print(\"Number of products found: \"+str(len(products)))\n",
    "    return products"
   ]
  },
  {
   "cell_type": "code",
   "execution_count": 4,
   "metadata": {},
   "outputs": [
    {
     "name": "stdout",
     "output_type": "stream",
     "text": [
      "Number of products found: 29\n"
     ]
    }
   ],
   "source": [
    "pSLC = findS1Data()"
   ]
  },
  {
   "cell_type": "code",
   "execution_count": 5,
   "metadata": {},
   "outputs": [],
   "source": [
    "p1 = list(pSLC.items())[2][1]"
   ]
  },
  {
   "cell_type": "code",
   "execution_count": 6,
   "metadata": {},
   "outputs": [
    {
     "data": {
      "text/plain": [
       "{'title': 'S1B_IW_SLC__1SDH_20200218T101603_20200218T101631_020322_0267D2_1C84',\n",
       " 'link': \"https://scihub.copernicus.eu/dhus/odata/v1/Products('2a54553a-2ee4-4c5e-ba05-f3b713b788d2')/$value\",\n",
       " 'link_alternative': \"https://scihub.copernicus.eu/dhus/odata/v1/Products('2a54553a-2ee4-4c5e-ba05-f3b713b788d2')/\",\n",
       " 'link_icon': \"https://scihub.copernicus.eu/dhus/odata/v1/Products('2a54553a-2ee4-4c5e-ba05-f3b713b788d2')/Products('Quicklook')/$value\",\n",
       " 'summary': 'Date: 2020-02-18T10:16:03.576Z, Instrument: SAR-C SAR, Mode: HH HV, Satellite: Sentinel-1, Size: 7.68 GB',\n",
       " 'beginposition': datetime.datetime(2020, 2, 18, 10, 16, 3, 576000),\n",
       " 'endposition': datetime.datetime(2020, 2, 18, 10, 16, 31, 501000),\n",
       " 'ingestiondate': datetime.datetime(2020, 2, 18, 14, 18, 21, 248000),\n",
       " 'missiondatatakeid': 157650,\n",
       " 'slicenumber': 2,\n",
       " 'orbitnumber': 20322,\n",
       " 'lastorbitnumber': 20322,\n",
       " 'relativeorbitnumber': 171,\n",
       " 'lastrelativeorbitnumber': 171,\n",
       " 'sensoroperationalmode': 'IW',\n",
       " 'swathidentifier': 'IW1 IW2 IW3',\n",
       " 'orbitdirection': 'DESCENDING',\n",
       " 'producttype': 'SLC',\n",
       " 'timeliness': 'Fast-24h',\n",
       " 'platformname': 'Sentinel-1',\n",
       " 'platformidentifier': '2016-025A',\n",
       " 'instrumentname': 'Synthetic Aperture Radar (C-band)',\n",
       " 'instrumentshortname': 'SAR-C SAR',\n",
       " 'filename': 'S1B_IW_SLC__1SDH_20200218T101603_20200218T101631_020322_0267D2_1C84.SAFE',\n",
       " 'format': 'SAFE',\n",
       " 'productclass': 'S',\n",
       " 'polarisationmode': 'HH HV',\n",
       " 'acquisitiontype': 'NOMINAL',\n",
       " 'status': 'ARCHIVED',\n",
       " 'size': '7.68 GB',\n",
       " 'gmlfootprint': '<gml:Polygon srsName=\"http://www.opengis.net/gml/srs/epsg.xml#4326\" xmlns:gml=\"http://www.opengis.net/gml\">\\n   <gml:outerBoundaryIs>\\n      <gml:LinearRing>\\n         <gml:coordinates>68.476021,-52.040985 68.985023,-58.298866 70.639717,-57.455391 70.103676,-50.710674 68.476021,-52.040985</gml:coordinates>\\n      </gml:LinearRing>\\n   </gml:outerBoundaryIs>\\n</gml:Polygon>',\n",
       " 'footprint': 'MULTIPOLYGON (((-52.040985 68.476021, -50.710674 70.103676, -57.455391 70.639717, -58.298866 68.985023, -52.040985 68.476021)))',\n",
       " 'identifier': 'S1B_IW_SLC__1SDH_20200218T101603_20200218T101631_020322_0267D2_1C84',\n",
       " 'uuid': '2a54553a-2ee4-4c5e-ba05-f3b713b788d2'}"
      ]
     },
     "execution_count": 6,
     "metadata": {},
     "output_type": "execute_result"
    }
   ],
   "source": [
    "p1"
   ]
  },
  {
   "cell_type": "code",
   "execution_count": 7,
   "metadata": {},
   "outputs": [],
   "source": [
    "# check how many products are online\n",
    "def checkOnlineProds(products):\n",
    "    onlineProds = 0\n",
    "    products_online = []\n",
    "    online_dates = []\n",
    "    for p in products:\n",
    "        #print(api.get_product_odata(p))\n",
    "        product_info = api.get_product_odata(p)\n",
    "        #print (product_info)\n",
    "        # extract September data\n",
    "        #if product_info['date'].month == 9:\n",
    "        if product_info['Online']:\n",
    "            onlineProds +=1\n",
    "            products_online.append(product_info)\n",
    "            if product_info['date'] not in online_dates:\n",
    "                online_dates.append(product_info['date'])\n",
    "    print('Number of products online:', onlineProds)\n",
    "                    \n",
    "    return products_online, online_dates"
   ]
  },
  {
   "cell_type": "code",
   "execution_count": 8,
   "metadata": {},
   "outputs": [
    {
     "name": "stdout",
     "output_type": "stream",
     "text": [
      "Number of products online: 29\n"
     ]
    }
   ],
   "source": [
    "pSLC_online, pOnline_dates = checkOnlineProds(pSLC)"
   ]
  },
  {
   "cell_type": "code",
   "execution_count": 9,
   "metadata": {},
   "outputs": [
    {
     "data": {
      "text/plain": [
       "[datetime.datetime(2020, 3, 13, 10, 16, 3, 478000),\n",
       " datetime.datetime(2020, 3, 1, 10, 16, 3, 290000),\n",
       " datetime.datetime(2020, 2, 18, 10, 16, 3, 576000),\n",
       " datetime.datetime(2020, 2, 6, 10, 16, 3, 874000),\n",
       " datetime.datetime(2020, 1, 25, 10, 16, 4, 139000),\n",
       " datetime.datetime(2020, 1, 13, 10, 16, 4, 460000),\n",
       " datetime.datetime(2020, 1, 1, 10, 16, 4, 950000),\n",
       " datetime.datetime(2019, 12, 20, 10, 16, 5, 599000),\n",
       " datetime.datetime(2019, 12, 8, 10, 16, 6, 89000),\n",
       " datetime.datetime(2019, 11, 26, 10, 16, 6, 483000),\n",
       " datetime.datetime(2019, 11, 14, 10, 16, 6, 878000),\n",
       " datetime.datetime(2019, 11, 2, 10, 16, 6, 775000),\n",
       " datetime.datetime(2019, 10, 21, 10, 16, 7, 4000),\n",
       " datetime.datetime(2019, 10, 9, 10, 16, 6, 780000),\n",
       " datetime.datetime(2019, 9, 27, 10, 16, 6, 952000),\n",
       " datetime.datetime(2019, 9, 15, 10, 16, 6, 300000),\n",
       " datetime.datetime(2019, 9, 3, 10, 16, 5, 747000),\n",
       " datetime.datetime(2019, 8, 22, 10, 16, 5, 160000),\n",
       " datetime.datetime(2019, 8, 10, 10, 16, 4, 557000),\n",
       " datetime.datetime(2019, 7, 29, 10, 16, 3, 649000),\n",
       " datetime.datetime(2019, 7, 17, 10, 16, 2, 919000),\n",
       " datetime.datetime(2019, 7, 5, 10, 16, 2, 330000),\n",
       " datetime.datetime(2019, 6, 23, 10, 16, 1, 514000),\n",
       " datetime.datetime(2019, 6, 11, 10, 16, 0, 785000),\n",
       " datetime.datetime(2019, 5, 30, 10, 16, 0, 104000),\n",
       " datetime.datetime(2019, 5, 18, 10, 15, 59, 571000),\n",
       " datetime.datetime(2019, 5, 6, 10, 15, 58, 947000),\n",
       " datetime.datetime(2019, 4, 24, 10, 15, 58, 536000),\n",
       " datetime.datetime(2019, 4, 12, 10, 15, 57, 930000)]"
      ]
     },
     "execution_count": 9,
     "metadata": {},
     "output_type": "execute_result"
    }
   ],
   "source": [
    "pOnline_dates"
   ]
  },
  {
   "cell_type": "code",
   "execution_count": null,
   "metadata": {},
   "outputs": [],
   "source": [
    "#downloadDir = './sepDataGRD'\n",
    "#Path(downloadDir).mkdir(parents=True, exist_ok=True)"
   ]
  },
  {
   "cell_type": "code",
   "execution_count": null,
   "metadata": {},
   "outputs": [],
   "source": [
    "downloadDir = './SLCData'\n",
    "Path(downloadDir).mkdir(parents=True, exist_ok=True)"
   ]
  },
  {
   "cell_type": "code",
   "execution_count": null,
   "metadata": {},
   "outputs": [],
   "source": [
    "# download products for Sep that are online\n",
    "for op in pSLC_online:\n",
    "    api.download(op['id'], downloadDir)"
   ]
  },
  {
   "cell_type": "code",
   "execution_count": null,
   "metadata": {},
   "outputs": [],
   "source": [
    "#Download all products \n",
    "#api.download_all(products)"
   ]
  }
 ],
 "metadata": {
  "kernelspec": {
   "display_name": "3.7.4",
   "language": "python",
   "name": "3.7.4"
  },
  "language_info": {
   "codemirror_mode": {
    "name": "ipython",
    "version": 3
   },
   "file_extension": ".py",
   "mimetype": "text/x-python",
   "name": "python",
   "nbconvert_exporter": "python",
   "pygments_lexer": "ipython3",
   "version": "3.7.4"
  }
 },
 "nbformat": 4,
 "nbformat_minor": 2
}

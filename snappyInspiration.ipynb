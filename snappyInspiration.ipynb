{
 "cells": [
  {
   "cell_type": "code",
   "execution_count": null,
   "metadata": {},
   "outputs": [],
   "source": [
    "# source: https://senbox.atlassian.net/wiki/spaces/SNAP/pages/19300362/How+to+use+the+SNAP+API+from+Python"
   ]
  },
  {
   "cell_type": "code",
   "execution_count": null,
   "metadata": {},
   "outputs": [],
   "source": [
    "# 1. Imports\n",
    " \n",
    "import snappy\n",
    "from snappy import ProductUtils\n",
    " \n",
    "width = p.getSceneRasterWidth() # often the target product dimensions are the same as the source product dimensions\n",
    "height = p.getSceneRasterHeight()\n",
    "target_product = snappy.Product('My target product', 'The type of my target product', width, height)\n",
    " \n",
    "# 2. Optional: Copy or set meta information\n",
    " \n",
    "ProductUtils.copyMetadata(p, target_product)\n",
    " \n",
    "# It is also possible to target specific fields. Just one example:\n",
    "target_product.setDescription('Product containing very valuable output bands')\n",
    " \n",
    "# 3. Set product writer\n",
    "# Set the writer with the write_format defined above (here: 'BEAM-DIMAP'):\n",
    " \n",
    "target_product.setProductWriter(ProductIO.getProductWriter(write_format))\n",
    " \n",
    "# 4. Add and configure target Bands\n",
    "# Now, you could copy bands form the source product if you are interested in writing them to the target product as well. Check out ProductUtils.copyBand() regarding this task.\n",
    "# Before starting our computations, we must create the computed bands of our target Product:\n",
    " \n",
    "band_name = 'an_output_band_name'\n",
    "target_band = target_product.addBand(band_name, snappy.ProductData.TYPE_FLOAT32)\n",
    " \n",
    "# further configure the created band:\n",
    "nodata_value = p.getBand(<'source_band_name'>).getNoDataValue()\n",
    "target_band.setNoDataValue(nodata_value)\n",
    "target_band.setNoDataValueUsed(True)\n",
    "target_band.setWavelength(425.0)\n",
    " \n",
    "# You could set values of other fields, some might be important for creating an output suiting your expectations.\n",
    " \n",
    "# 5. Write header\n",
    "# All the structure and meta information we just added to the target_product are still in memory. Hence, we must write its header before writing data. The single argument of writeHeader() is\n",
    "# the absolute path to the expected product without file extension.\n",
    "# The last String of this path is the target Product name as it is being written.\n",
    " \n",
    "target_product.writeHeader(<'your/out/directory/product_name'>)"
   ]
  }
 ],
 "metadata": {
  "kernelspec": {
   "display_name": "Python 3",
   "language": "python",
   "name": "python3"
  },
  "language_info": {
   "codemirror_mode": {
    "name": "ipython",
    "version": 3
   },
   "file_extension": ".py",
   "mimetype": "text/x-python",
   "name": "python",
   "nbconvert_exporter": "python",
   "pygments_lexer": "ipython3",
   "version": "3.6.5"
  }
 },
 "nbformat": 4,
 "nbformat_minor": 2
}
